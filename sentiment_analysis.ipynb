{
 "cells": [
  {
   "cell_type": "code",
   "execution_count": 29,
   "id": "47b706ae",
   "metadata": {},
   "outputs": [],
   "source": [
    "import pickle\n",
    "import re\n",
    "import tweepy"
   ]
  },
  {
   "cell_type": "code",
   "execution_count": 18,
   "id": "55382ace",
   "metadata": {},
   "outputs": [
    {
     "name": "stdout",
     "output_type": "stream",
     "text": [
      "<profileData.profileData object at 0x7fd6aff10b50>\n"
     ]
    }
   ],
   "source": [
    "elonMuskData = pickle.load(open(\"elonMuskData.pb\", \"rb\" ))\n",
    "print(elonMuskData)\n",
    "fetched_tweets = elonMuskData.tweets"
   ]
  },
  {
   "cell_type": "code",
   "execution_count": 25,
   "id": "bab5115c",
   "metadata": {},
   "outputs": [],
   "source": [
    "def clean_tweet(tweet):\n",
    "    \"\"\"from https://www.geeksforgeeks.org/twitter-sentiment-analysis-using-python/\"\"\"\n",
    "    '''\n",
    "    Utility function to clean tweet text by removing links, special characters\n",
    "    using simple regex statements.\n",
    "    '''\n",
    "    return ' '.join(re.sub(\"(@[A-Za-z0-9]+)|([^0-9A-Za-z \\t])|(\\w+:\\/\\/\\S+)\", \" \", tweet).split())"
   ]
  },
  {
   "cell_type": "code",
   "execution_count": 30,
   "id": "c79591b0",
   "metadata": {},
   "outputs": [],
   "source": [
    "from config import consumer_key, consumer_secret, access_token, access_token_secret\n",
    "auth = tweepy.OAuth1UserHandler(consumer_key, consumer_secret, access_token, access_token_secret)\n",
    "api = tweepy.API(auth)"
   ]
  },
  {
   "cell_type": "code",
   "execution_count": 33,
   "id": "2d00a959",
   "metadata": {},
   "outputs": [],
   "source": [
    "fetched_tweets = api.user_timeline(screen_name=\"elonmusk\", count=20000, include_rts=True, tweet_mode='extended')"
   ]
  },
  {
   "cell_type": "code",
   "execution_count": 34,
   "id": "68a85996",
   "metadata": {},
   "outputs": [
    {
     "name": "stdout",
     "output_type": "stream",
     "text": [
      "Haha that would sickkk\n",
      "Doesn t sound very balanced\n",
      "Is a new platform needed\n",
      "Given that Twitter serves as the de facto public town square failing to adhere to free speech principles fundamentally undermines democracy What should be done\n",
      "\n",
      "Especially seek negative feedback\n",
      "As predicted\n",
      "Starlink at least so far has resisted all hacking amp jamming attempts\n",
      "Sigh\n",
      "especially crypto spam\n",
      "RT NASA has ordered six additional station resupply missions from SpaceX Dragon will continue to deliver critical cargo an\n",
      "True\n",
      "\n",
      "The consequences of this poll will be important Please vote carefully\n",
      "I would gladly follow the directions of the chemtrails masterminds but I can t figure out what they re saying\n",
      "Free speech is essential to a functioning democracy Do you believe Twitter rigorously adheres to this principle\n",
      "feed Easily\n",
      "\n",
      "\n",
      "\n",
      "Old but good\n"
     ]
    }
   ],
   "source": [
    "for tweet in fetched_tweets:\n",
    "    print(clean_tweet(tweet.full_text))"
   ]
  },
  {
   "cell_type": "code",
   "execution_count": null,
   "id": "0ea35dfd",
   "metadata": {},
   "outputs": [],
   "source": []
  },
  {
   "cell_type": "code",
   "execution_count": null,
   "id": "f851850d",
   "metadata": {},
   "outputs": [],
   "source": []
  }
 ],
 "metadata": {
  "kernelspec": {
   "display_name": "Python 3",
   "language": "python",
   "name": "python3"
  },
  "language_info": {
   "codemirror_mode": {
    "name": "ipython",
    "version": 3
   },
   "file_extension": ".py",
   "mimetype": "text/x-python",
   "name": "python",
   "nbconvert_exporter": "python",
   "pygments_lexer": "ipython3",
   "version": "3.8.1"
  }
 },
 "nbformat": 4,
 "nbformat_minor": 5
}
